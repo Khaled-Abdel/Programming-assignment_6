{
 "cells": [
  {
   "cell_type": "markdown",
   "metadata": {},
   "source": [
    "#1)\tWrite a Python Program to Display Fibonacci Sequence Using Recursion?"
   ]
  },
  {
   "cell_type": "code",
   "execution_count": 12,
   "metadata": {},
   "outputs": [
    {
     "name": "stdout",
     "output_type": "stream",
     "text": [
      "Enter the range: 10\n",
      "0\n",
      "1\n",
      "1\n",
      "2\n",
      "3\n",
      "5\n",
      "8\n",
      "13\n",
      "21\n",
      "34\n"
     ]
    }
   ],
   "source": [
    "def fs(num):\n",
    "    \"\"\" this function helps you find the FS of any sequence\"\"\"\n",
    "    \n",
    "    if num ==1 or num ==2:\n",
    "        return 1\n",
    "    elif num >2:\n",
    "        return fs(num-1) + fs(num-2)\n",
    "    else:\n",
    "        return 0\n",
    "\n",
    "for seq in range(int(input(\"Enter the range: \"))):\n",
    "    print(fs(seq))\n",
    "    \n",
    "    \n",
    "    "
   ]
  },
  {
   "cell_type": "markdown",
   "metadata": {},
   "source": [
    "#2)\tWrite a Python Program to Find Factorial of Number Using Recursion?"
   ]
  },
  {
   "cell_type": "code",
   "execution_count": 18,
   "metadata": {},
   "outputs": [
    {
     "name": "stdout",
     "output_type": "stream",
     "text": [
      "Enter the number that you would like to check its Factorial: 5\n",
      "The Factorial of the number 5 is 120\n"
     ]
    }
   ],
   "source": [
    "def fn(n):\n",
    "    \"\"\" This function finds a factorial of a number \"\"\"\n",
    "    if n==0 or n==1:\n",
    "        return 1\n",
    "    else:\n",
    "        return n*fn(n-1)\n",
    "    \n",
    "    \n",
    "find_fn = int(input(\"Enter the number that you would like to check its Factorial: \"))\n",
    "ans = fn(find_fn)   \n",
    "print(\"The Factorial of the number {} is {}\".format(find_fn, ans))"
   ]
  },
  {
   "cell_type": "markdown",
   "metadata": {},
   "source": [
    "#3)\tWrite a Python Program to calculate your Body Mass Index?"
   ]
  },
  {
   "cell_type": "code",
   "execution_count": 36,
   "metadata": {},
   "outputs": [
    {
     "name": "stdout",
     "output_type": "stream",
     "text": [
      "Enter the number that fits you: (1) weight in lb or (2) weight in kg: 2\n",
      "Enter the number that fits you: (1) height in feet or (2) height in m: 2\n",
      "Enter you weight in kg: 103\n",
      "Enter you Height in m: 1.80\n",
      "Your body mass index is 31.79012345679012\n"
     ]
    }
   ],
   "source": [
    "weight = input(\"Enter the number that fits you: (1) weight in lb or (2) weight in kg: \")\n",
    "height = input(\"Enter the number that fits you: (1) height in feet or (2) height in m: \")\n",
    "\n",
    "\n",
    "def find_w(weight):\n",
    "    if weight == \"1\":\n",
    "        w_lb = float(input(\"Enter your weight in lb: \"))\n",
    "        w_kg = w_lb/2.205\n",
    "        return w_kg\n",
    "    \n",
    "    elif weight == \"2\":\n",
    "        w_kg = float(input(\"Enter you weight in kg: \"))\n",
    "        return w_kg\n",
    "\n",
    "def find_h(height):\n",
    "    if height == \"1\":\n",
    "        h_feet = float(input(\"Enter you Height in feet: \"))\n",
    "        h_m = h_feet/3.281\n",
    "        return h_m * h_m\n",
    "        \n",
    "    elif height == \"2\":\n",
    "        h_m = float(input(\"Enter you Height in m: \"))\n",
    "        return h_m * h_m\n",
    "\n",
    "print(\"Your body mass index is {}\".format(find_w(weight)/find_h(height)))\n",
    "    \n",
    "    \n"
   ]
  },
  {
   "cell_type": "markdown",
   "metadata": {},
   "source": [
    "#4) Write a Python Program to calculate the natural logarithm of any number?"
   ]
  },
  {
   "cell_type": "code",
   "execution_count": 23,
   "metadata": {},
   "outputs": [
    {
     "name": "stdout",
     "output_type": "stream",
     "text": [
      "Enter the number to use in natural log:  3\n"
     ]
    },
    {
     "data": {
      "text/plain": [
       "1.0986122886681098"
      ]
     },
     "execution_count": 23,
     "metadata": {},
     "output_type": "execute_result"
    }
   ],
   "source": [
    "import math\n",
    "num = float(input(\"Enter the number to use in natural log:  \"))\n",
    "math.log(num)"
   ]
  },
  {
   "cell_type": "markdown",
   "metadata": {},
   "source": [
    "#5) Write a Python Program for cube sum of first n natural numbers?"
   ]
  },
  {
   "cell_type": "code",
   "execution_count": 35,
   "metadata": {},
   "outputs": [
    {
     "name": "stdout",
     "output_type": "stream",
     "text": [
      "Enter the range of the first natural numbers you want to10\n",
      "cube sum od the first 10.0 natural numbers = 3025.0\n"
     ]
    }
   ],
   "source": [
    "natural_num = float(input(\"Enter the range of the first natural numbers you want to\"))\n",
    "\n",
    "def find_Cs(natural_num):\n",
    "    \"\"\" this function cube sum of first n natural numbers\"\"\"\n",
    "    total = ((natural_num*(natural_num+1))/2)**2\n",
    "    return total\n",
    "print(\"cube sum od the first {} natural numbers = {}\".format(natural_num, find_Cs(natural_num)))\n"
   ]
  },
  {
   "cell_type": "code",
   "execution_count": null,
   "metadata": {},
   "outputs": [],
   "source": []
  },
  {
   "cell_type": "code",
   "execution_count": null,
   "metadata": {},
   "outputs": [],
   "source": []
  }
 ],
 "metadata": {
  "kernelspec": {
   "display_name": "Python 3",
   "language": "python",
   "name": "python3"
  },
  "language_info": {
   "codemirror_mode": {
    "name": "ipython",
    "version": 3
   },
   "file_extension": ".py",
   "mimetype": "text/x-python",
   "name": "python",
   "nbconvert_exporter": "python",
   "pygments_lexer": "ipython3",
   "version": "3.8.5"
  }
 },
 "nbformat": 4,
 "nbformat_minor": 4
}
